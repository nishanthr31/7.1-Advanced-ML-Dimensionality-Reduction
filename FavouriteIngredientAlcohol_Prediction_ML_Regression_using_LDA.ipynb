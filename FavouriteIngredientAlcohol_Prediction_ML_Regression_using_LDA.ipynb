{
 "cells": [
  {
   "cell_type": "code",
   "execution_count": 3,
   "id": "278bce4d-db71-49a3-8378-177d248e6f11",
   "metadata": {},
   "outputs": [
    {
     "name": "stdout",
     "output_type": "stream",
     "text": [
      "[[14  0  0]\n",
      " [ 0 16  0]\n",
      " [ 0  0  6]]\n",
      "=====================\n",
      "              precision    recall  f1-score   support\n",
      "\n",
      "           1       1.00      1.00      1.00        14\n",
      "           2       1.00      1.00      1.00        16\n",
      "           3       1.00      1.00      1.00         6\n",
      "\n",
      "    accuracy                           1.00        36\n",
      "   macro avg       1.00      1.00      1.00        36\n",
      "weighted avg       1.00      1.00      1.00        36\n",
      "\n"
     ]
    }
   ],
   "source": [
    "import pandas as pd\n",
    "\n",
    "dataset = pd.read_csv('Wine.csv')\n",
    "X = dataset.iloc[:, 0:13].values\n",
    "y = dataset.iloc[:, 13].values\n",
    "\n",
    "from sklearn.model_selection import train_test_split\n",
    "X_train, X_test, y_train, y_test = train_test_split(X, y, test_size = 0.2, random_state = 0)\n",
    "\n",
    "from sklearn.preprocessing import StandardScaler\n",
    "sc = StandardScaler()\n",
    "X_train = sc.fit_transform(X_train)\n",
    "X_test = sc.transform(X_test)\n",
    "\n",
    "from sklearn.discriminant_analysis import LinearDiscriminantAnalysis as LDA\n",
    "lda = LDA(n_components = 2)\n",
    "X_train = lda.fit_transform(X_train, y_train)\n",
    "X_test = lda.transform(X_test)\n",
    "\n",
    "from sklearn.linear_model import LogisticRegression\n",
    "classifier = LogisticRegression(random_state = 0)\n",
    "classifier.fit(X_train, y_train)\n",
    "\n",
    "y_pred = classifier.predict(X_test)\n",
    "\n",
    "from sklearn.metrics import confusion_matrix\n",
    "cm = confusion_matrix(y_test, y_pred)\n",
    "\n",
    "\n",
    "\n",
    "from sklearn.metrics import classification_report\n",
    "clr = classification_report(y_test, y_pred)\n",
    "print(cm)\n",
    "print(\"=====================\")\n",
    "print(clr)"
   ]
  },
  {
   "cell_type": "code",
   "execution_count": 7,
   "id": "a6d8b7de-3ca8-410d-887a-f1a63b8bde1e",
   "metadata": {},
   "outputs": [
    {
     "name": "stdout",
     "output_type": "stream",
     "text": [
      "       LDA1      LDA2\n",
      "0  3.573156  1.940189\n",
      "1  0.854759 -2.081830\n",
      "2  0.621737 -3.062345\n",
      "3  4.807864  2.006387\n",
      "4 -3.857976  0.149873\n",
      "       LDA1      LDA2\n",
      "0 -3.839603  1.545673\n",
      "1  5.246017  1.723585\n",
      "2 -0.660642 -3.322311\n",
      "3 -2.166671  1.014743\n",
      "4 -0.160800 -1.271716\n"
     ]
    }
   ],
   "source": [
    "# Convert transformed data back to DataFrame for easy handling of column names\n",
    "X_train_df = pd.DataFrame(X_train, columns=['LDA1', 'LDA2'])\n",
    "X_test_df = pd.DataFrame(X_test, columns=['LDA1', 'LDA2'])\n",
    "\n",
    "# Display the first few rows of the transformed training set with column names\n",
    "print(X_train_df.head())\n",
    "print(X_test_df.head())"
   ]
  },
  {
   "cell_type": "code",
   "execution_count": null,
   "id": "27a1bf5d-5dde-428e-bdcf-80a41a3b49ee",
   "metadata": {},
   "outputs": [],
   "source": []
  }
 ],
 "metadata": {
  "kernelspec": {
   "display_name": "Python 3 (ipykernel)",
   "language": "python",
   "name": "python3"
  },
  "language_info": {
   "codemirror_mode": {
    "name": "ipython",
    "version": 3
   },
   "file_extension": ".py",
   "mimetype": "text/x-python",
   "name": "python",
   "nbconvert_exporter": "python",
   "pygments_lexer": "ipython3",
   "version": "3.10.14"
  }
 },
 "nbformat": 4,
 "nbformat_minor": 5
}
